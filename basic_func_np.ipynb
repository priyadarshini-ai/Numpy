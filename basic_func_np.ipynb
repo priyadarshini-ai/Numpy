{
 "cells": [
  {
   "cell_type": "code",
   "execution_count": 1,
   "id": "7144fdea",
   "metadata": {},
   "outputs": [],
   "source": [
    "import numpy as np"
   ]
  },
  {
   "cell_type": "markdown",
   "id": "68bc369a",
   "metadata": {},
   "source": [
    "Universal Functions in Numpy"
   ]
  },
  {
   "cell_type": "code",
   "execution_count": 2,
   "id": "649ba17e",
   "metadata": {},
   "outputs": [],
   "source": [
    "# create an array of angles\n",
    "angles = np.array([0, 30, 45, 60, 90, 180])"
   ]
  },
  {
   "cell_type": "code",
   "execution_count": 3,
   "id": "f7ad7b44",
   "metadata": {},
   "outputs": [],
   "source": [
    "radians = np.deg2rad(angles)"
   ]
  },
  {
   "cell_type": "code",
   "execution_count": 5,
   "id": "4ee42ea6",
   "metadata": {},
   "outputs": [
    {
     "name": "stdout",
     "output_type": "stream",
     "text": [
      "Sine of angles in the array:\n",
      "[0.00000000e+00 5.00000000e-01 7.07106781e-01 8.66025404e-01\n",
      " 1.00000000e+00 1.22464680e-16]\n",
      "Inverse Sine of sine values:\n",
      "[0.0000000e+00 3.0000000e+01 4.5000000e+01 6.0000000e+01 9.0000000e+01\n",
      " 7.0167093e-15]\n"
     ]
    }
   ],
   "source": [
    "# sine of angles\n",
    "print('Sine of angles in the array:')\n",
    "sine_value = np.sin(radians)\n",
    "print(np.sin(radians))\n",
    "\n",
    "print('Inverse Sine of sine values:')\n",
    "print(np.rad2deg(np.arcsin(sine_value)))"
   ]
  },
  {
   "cell_type": "markdown",
   "id": "083d040a",
   "metadata": {},
   "source": [
    "Statistical Functions"
   ]
  },
  {
   "cell_type": "code",
   "execution_count": 6,
   "id": "31db50a2",
   "metadata": {},
   "outputs": [],
   "source": [
    "weight = np.array([50.7, 52.5, 50, 58, 55.63, 73.25, 49.5, 45])"
   ]
  },
  {
   "cell_type": "code",
   "execution_count": 8,
   "id": "96b733d5",
   "metadata": {},
   "outputs": [
    {
     "name": "stdout",
     "output_type": "stream",
     "text": [
      "Minimum and maximum weight of the students: \n",
      "45.0 73.25\n",
      "Range of the weight of the students: \n",
      "28.25\n"
     ]
    }
   ],
   "source": [
    "# minimum and maximum \n",
    "print('Minimum and maximum weight of the students: ')\n",
    "print(np.amin(weight), np.amax(weight))\n",
    "\n",
    "print('Range of the weight of the students: ')\n",
    "print(np.ptp(weight))"
   ]
  },
  {
   "cell_type": "code",
   "execution_count": 9,
   "id": "674bfc82",
   "metadata": {},
   "outputs": [
    {
     "name": "stdout",
     "output_type": "stream",
     "text": [
      "Weight below which 70 % student fall: \n",
      "55.317\n"
     ]
    }
   ],
   "source": [
    "# percentiage\n",
    "print('Weight below which 70 % student fall: ')\n",
    "print(np.percentile(weight, 70))"
   ]
  },
  {
   "cell_type": "code",
   "execution_count": 10,
   "id": "f2af6e76",
   "metadata": {},
   "outputs": [
    {
     "name": "stdout",
     "output_type": "stream",
     "text": [
      "Mean weight of the students: \n",
      "54.3225\n"
     ]
    }
   ],
   "source": [
    "# mean \n",
    "print('Mean weight of the students: ')\n",
    "print(np.mean(weight))"
   ]
  },
  {
   "cell_type": "code",
   "execution_count": 11,
   "id": "7a2b179b",
   "metadata": {},
   "outputs": [
    {
     "name": "stdout",
     "output_type": "stream",
     "text": [
      "Standard deviation of weight of the students: \n",
      "8.052773978574091\n"
     ]
    }
   ],
   "source": [
    "print('Standard deviation of weight of the students: ')\n",
    "print(np.std(weight))"
   ]
  },
  {
   "cell_type": "code",
   "execution_count": 12,
   "id": "f40081dc",
   "metadata": {},
   "outputs": [
    {
     "name": "stdout",
     "output_type": "stream",
     "text": [
      "Variance of weight of the students: \n",
      "64.84716875\n"
     ]
    }
   ],
   "source": [
    "# variance \n",
    "print('Variance of weight of the students: ')\n",
    "print(np.var(weight))"
   ]
  },
  {
   "cell_type": "code",
   "execution_count": 13,
   "id": "c9540568",
   "metadata": {},
   "outputs": [
    {
     "name": "stdout",
     "output_type": "stream",
     "text": [
      "Average weight of the students: \n",
      "54.3225\n"
     ]
    }
   ],
   "source": [
    "# average \n",
    "print('Average weight of the students: ')\n",
    "print(np.average(weight))"
   ]
  }
 ],
 "metadata": {
  "kernelspec": {
   "display_name": ".venv",
   "language": "python",
   "name": "python3"
  },
  "language_info": {
   "codemirror_mode": {
    "name": "ipython",
    "version": 3
   },
   "file_extension": ".py",
   "mimetype": "text/x-python",
   "name": "python",
   "nbconvert_exporter": "python",
   "pygments_lexer": "ipython3",
   "version": "3.10.7"
  }
 },
 "nbformat": 4,
 "nbformat_minor": 5
}
